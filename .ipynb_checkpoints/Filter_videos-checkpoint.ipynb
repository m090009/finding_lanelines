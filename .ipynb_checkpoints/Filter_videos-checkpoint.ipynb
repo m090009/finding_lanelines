{
 "cells": [
  {
   "cell_type": "code",
   "execution_count": 1,
   "metadata": {},
   "outputs": [],
   "source": [
    "import LaneLine_Pipeline\n",
    "from collections import deque\n",
    "from moviepy.editor import VideoFileClip\n",
    "from IPython.display import HTML\n",
    "import cv2\n",
    "%matplotlib inline"
   ]
  },
  {
   "cell_type": "code",
   "execution_count": 44,
   "metadata": {},
   "outputs": [],
   "source": [
    "class LaneLineFinder:\n",
    "    \n",
    "    SAMPLE_FRAMES = 30\n",
    "    \n",
    "    def __init__(self):\n",
    "        self.right_lane_lines = deque(maxlen= self.SAMPLE_FRAMES) \n",
    "        self.left_lane_lines = deque(maxlen= self.SAMPLE_FRAMES)\n",
    "        \n",
    "    def average_line_sampling(self, line, previous_lines):\n",
    "        if line:\n",
    "            previous_lines.append(line)\n",
    "        \n",
    "        if len(previous_lines) > 0:\n",
    "            line = np.mean(previous_lines, axis = 0, dtype=np.int32) # Like tensorflow\n",
    "            line = tuple(map(tuple, line))\n",
    "            \n",
    "        return line\n",
    "        \n",
    "    def process_image(self, image):\n",
    "        # NOTE: The output you return should be a color image (3 channel) for processing video below\n",
    "        # TODO: put your pipeline here,\n",
    "        # you should return the final output (image where lines are drawn on lanes)\n",
    "\n",
    "#         hsl_image = LaneLine_Pipeline.convert_to_hsl(image)\n",
    "        # Convert image to the HSL color space \n",
    "        white_yellow_image = LaneLine_Pipeline.select_white_yellow_colors_HSL(image)\n",
    "        # grayscaling the image\n",
    "        gray_image = LaneLine_Pipeline.grayscale(white_yellow_image)\n",
    "        \n",
    "        \n",
    "        # then we apply Gaussian Blur to denoice the Gray image before getting canny edges\n",
    "        # Denoise image using Gaussian Blur\n",
    "        denoised_image = LaneLine_Pipeline.gaussian_blur(gray_image, 11)\n",
    "\n",
    "        # then we apply canny edges to detect the image edges\n",
    "        canny_image = LaneLine_Pipeline.canny_edges(denoised_image)\n",
    "\n",
    "        # Apply region of intrest mask on the canny edges image\n",
    "        masked_image = LaneLine_Pipeline.apply_region_of_interest(canny_image)\n",
    "\n",
    "\n",
    "        # Apply Hough transform on the Canny edged image\n",
    "        # Applying Hough transform and drawing the lines on the image\n",
    "#         image_lines = LaneLine_Pipeline.hough_transform(masked_image)\n",
    "\n",
    "        # Extrapolate lanelines return by the Hough transform\n",
    "#         extrapolated_lane_lines = LaneLine_Pipeline.make_lane_lines(image, image_lines[0])\n",
    "        \n",
    "    \n",
    "        # Average the videos last 6 lines' frames  \n",
    "#         right_line = self.average_line_sampling(extrapolated_lane_lines[0], self.right_lane_lines)\n",
    "#         left_line = self.average_line_sampling(extrapolated_lane_lines[1], self.left_lane_lines)\n",
    "\n",
    "        # Draw laneLines on the mage with lane lines colored \n",
    "    #     image_copy = np.copy(image)\n",
    "#         LaneLine_Pipeline.draw_lines(image, image_lines[0])\n",
    "        c = white_yellow_image\n",
    "        return c#hsl_image#white_yellow_image#draw_lane_lines(image, (right_line, left_line), thickness= 18)"
   ]
  },
  {
   "cell_type": "code",
   "execution_count": 45,
   "metadata": {},
   "outputs": [
    {
     "name": "stdout",
     "output_type": "stream",
     "text": [
      "[MoviePy] >>>> Building video filter_videos/white_yellow_video.mp4\n",
      "[MoviePy] Writing video filter_videos/white_yellow_video.mp4\n"
     ]
    },
    {
     "name": "stderr",
     "output_type": "stream",
     "text": [
      "100%|███████████████████████████████████████████████████████████████████████████████▉| 681/682 [00:07<00:00, 88.03it/s]\n"
     ]
    },
    {
     "name": "stdout",
     "output_type": "stream",
     "text": [
      "[MoviePy] Done.\n",
      "[MoviePy] >>>> Video ready: filter_videos/white_yellow_video.mp4 \n",
      "\n",
      "Wall time: 7.93 s\n"
     ]
    }
   ],
   "source": [
    "lane_line_finder = LaneLineFinder()\n",
    "\n",
    "\n",
    "\n",
    "masked_video = 'masked_video.mp4'\n",
    "\n",
    "hsl = 'HSL_video.mp4'\n",
    "gray_smooth = 'gray_smooth_video.mp4'\n",
    "gray = 'gray_video.mp4'\n",
    "hough = 'hough_video.mp4'\n",
    "hough_on_image = 'hough_on_image.mp4'\n",
    "true_canny = 'true_canny_video.mp4'\n",
    "masked_canny= 'masked_canny_video.mp4'\n",
    "white_yellow = 'white_yellow_video.mp4'\n",
    "\n",
    "\n",
    "white_output = 'filter_videos/'+ white_yellow\n",
    "## To speed up the testing process you may want to try your pipeline on a shorter subclip of the video\n",
    "## To do so add .subclip(start_second,end_second) to the end of the line below\n",
    "## Where start_second and end_second are integer values representing the start and end of the subclip\n",
    "## You may also uncomment the following line for a subclip of the first 5 seconds\n",
    "##clip1 = VideoFileClip(\"test_videos/solidWhiteRight.mp4\").subclip(0,5)\n",
    "clip1 = VideoFileClip(\"test_videos/solidYellowLeft.mp4\")\n",
    "white_clip = clip1.fl_image(lane_line_finder.process_image) #NOTE: this function expects color images!!\n",
    "%time white_clip.write_videofile(white_output, audio=False)"
   ]
  },
  {
   "cell_type": "code",
   "execution_count": 46,
   "metadata": {},
   "outputs": [],
   "source": [
    "#Close the reader properly \n",
    "clip1.reader.close()\n",
    "clip1.audio.reader.close_proc()"
   ]
  },
  {
   "cell_type": "code",
   "execution_count": 47,
   "metadata": {},
   "outputs": [
    {
     "data": {
      "text/html": [
       "\n",
       "<video width=\"960\" height=\"540\" controls>\n",
       "  <source src=\"filter_videos/white_yellow_video.mp4\">\n",
       "</video>\n"
      ],
      "text/plain": [
       "<IPython.core.display.HTML object>"
      ]
     },
     "execution_count": 47,
     "metadata": {},
     "output_type": "execute_result"
    }
   ],
   "source": [
    "HTML(\"\"\"\n",
    "<video width=\"960\" height=\"540\" controls>\n",
    "  <source src=\"{0}\">\n",
    "</video>\n",
    "\"\"\".format(white_output))"
   ]
  },
  {
   "cell_type": "code",
   "execution_count": null,
   "metadata": {},
   "outputs": [],
   "source": []
  }
 ],
 "metadata": {
  "kernelspec": {
   "display_name": "Python 3",
   "language": "python",
   "name": "python3"
  },
  "language_info": {
   "codemirror_mode": {
    "name": "ipython",
    "version": 3
   },
   "file_extension": ".py",
   "mimetype": "text/x-python",
   "name": "python",
   "nbconvert_exporter": "python",
   "pygments_lexer": "ipython3",
   "version": "3.5.2"
  },
  "widgets": {
   "state": {},
   "version": "1.1.2"
  }
 },
 "nbformat": 4,
 "nbformat_minor": 2
}
